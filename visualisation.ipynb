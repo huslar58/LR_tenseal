{
 "cells": [
  {
   "cell_type": "code",
   "execution_count": 1,
   "metadata": {},
   "outputs": [],
   "source": [
    "import matplotlib.pyplot as plt"
   ]
  },
  {
   "cell_type": "code",
   "execution_count": null,
   "metadata": {},
   "outputs": [],
   "source": [
    "# Data\n",
    "methods = ['Plaintext', 'Encrypted']\n",
    "times = [1, 8708]  # Training times in seconds\n",
    "\n",
    "# Create the bar chart\n",
    "plt.figure(figsize=(8, 5))  # Set the figure size\n",
    "plt.bar(methods, times, color=['blue', 'red'])\n",
    "\n",
    "# Adding title and labels\n",
    "plt.title('Training Time Comparison: Plaintext vs. Encrypted Linear Regression')\n",
    "plt.xlabel('Method')\n",
    "plt.ylabel('Training Time (seconds)')\n",
    "\n",
    "# Adding text labels above the bars\n",
    "for i, time in enumerate(times):\n",
    "    plt.text(i, time + 300, f'{time} sec', ha='center', va='bottom')\n",
    "\n",
    "# Adjust the y-axis limit to fit labels if necessary\n",
    "plt.ylim(0, max(times) + 1000)\n",
    "\n",
    "# Show the plot\n",
    "plt.show()"
   ]
  },
  {
   "cell_type": "code",
   "execution_count": null,
   "metadata": {},
   "outputs": [],
   "source": [
    "# Data\n",
    "methods = ['Plaintext', 'Encrypted']\n",
    "rams = [40, 21183]  # RAM Usage\n",
    "\n",
    "# Create the bar chart\n",
    "plt.figure(figsize=(8, 5))  # Set the figure size\n",
    "plt.bar(methods, rams, color=['blue', 'red'])\n",
    "\n",
    "# Adding title and labels\n",
    "plt.title('RAM usage Comparison: Plaintext vs. Encrypted Linear Regression')\n",
    "plt.xlabel('Method')\n",
    "plt.ylabel('RAM used (MB)')\n",
    "\n",
    "# Adding text labels above the bars\n",
    "for i, ram in enumerate(rams):\n",
    "    plt.text(i, ram + 0.02 * max(rams), f'{ram} MB', ha='center', va='bottom')\n",
    "\n",
    "# Adjust the y-axis limit to fit labels if necessary\n",
    "plt.ylim(0, max(rams) * 1.1)\n",
    "\n",
    "# Show the plot\n",
    "plt.show()"
   ]
  },
  {
   "cell_type": "code",
   "execution_count": null,
   "metadata": {},
   "outputs": [],
   "source": [
    "# Data\n",
    "methods = ['Plaintext', 'Encrypted']\n",
    "powers = [0.021, 334]  # Power Consumption\n",
    "\n",
    "# Create the bar chart\n",
    "plt.figure(figsize=(8, 5))  # Set the figure size\n",
    "plt.bar(methods, powers, color=['blue', 'red'])\n",
    "\n",
    "# Adding title and labels\n",
    "plt.title('Power Consumption Comparison: Plaintext vs. Encrypted Linear Regression')\n",
    "plt.xlabel('Method')\n",
    "plt.ylabel('Power consumed (W/h)')\n",
    "\n",
    "# Adding text labels above the bars\n",
    "for i, power in enumerate(powers):\n",
    "    plt.text(i, power + 0.02 * max(powers), f'{power} W/h', ha='center', va='bottom')\n",
    "\n",
    "# Adjust the y-axis limit to fit labels if necessary\n",
    "plt.ylim(0, max(powers) * 1.1)\n",
    "\n",
    "# Show the plot\n",
    "plt.show()"
   ]
  },
  {
   "cell_type": "code",
   "execution_count": null,
   "metadata": {},
   "outputs": [],
   "source": [
    "# Data\n",
    "methods = ['Plaintext', 'Encrypted']\n",
    "scores = [0.7479760588314077, 0.7310690270231832]  # R2 Scores\n",
    "\n",
    "# Create the bar chart\n",
    "plt.figure(figsize=(8, 5))  # Set the figure size\n",
    "bars = plt.bar(methods, scores, color=['blue', 'red'], width=0.6)\n",
    "\n",
    "# Adding title and labels\n",
    "plt.title('R2 Score Comparison: Plaintext vs. Encrypted Linear Regression')\n",
    "plt.xlabel('Method')\n",
    "plt.ylabel('R2 Score')\n",
    "\n",
    "# Adding text labels above the bars\n",
    "for bar, score in zip(bars, scores):\n",
    "    yval = bar.get_height()\n",
    "    plt.text(bar.get_x() + bar.get_width()/2, yval + 0.01, round(score, 4), ha='center', va='bottom')\n",
    "\n",
    "# Adjust the y-axis limit to fit labels if necessary\n",
    "plt.ylim(0, max(scores) * 1.1)\n",
    "\n",
    "# Show the plot\n",
    "plt.show()"
   ]
  }
 ],
 "metadata": {
  "kernelspec": {
   "display_name": ".venv",
   "language": "python",
   "name": "python3"
  },
  "language_info": {
   "codemirror_mode": {
    "name": "ipython",
    "version": 3
   },
   "file_extension": ".py",
   "mimetype": "text/x-python",
   "name": "python",
   "nbconvert_exporter": "python",
   "pygments_lexer": "ipython3",
   "version": "3.9.2"
  }
 },
 "nbformat": 4,
 "nbformat_minor": 2
}
